{
 "cells": [
  {
   "cell_type": "markdown",
   "id": "fifteen-thanks",
   "metadata": {},
   "source": [
    "<h1 style=\"color:Blue\">Iinitialize pyImageJ</h1>"
   ]
  },
  {
   "cell_type": "code",
   "execution_count": null,
   "id": "bridal-command",
   "metadata": {},
   "outputs": [],
   "source": [
    "import imagej\n",
    "import numpy as np\n",
    "import pandas as pd\n",
    "import xlsxwriter\n",
    "ij = imagej.init()\n",
    "def SaveAs(num):\n",
    "  if num == 5:\n",
    "    save_out = 'saveAs(\"Results\", \"'+ DICT_PATH[\"folder\"] + '/' + DICT_PATH[\"save\"] + str(-num) +'.csv\");'\n",
    "  else:\n",
    "    save_out = 'saveAs(\"Tiff\", \"' + DICT_PATH[\"folder\"] + '/' + DICT_PATH[\"save\"]+str(-num)+ '.tif\");'\n",
    "  return save_out\n",
    "DICT_PATH = {\"name\":\"\", \"folder\":\"\",\"distance\":\"\",\"save\":\"\",\"save_path\":\"\",\"oval\":[\"x\",\"y\",\"w/h\"]}"
   ]
  },
  {
   "cell_type": "markdown",
   "id": "related-seventh",
   "metadata": {},
   "source": [
    "<p style = \"color:blue\"><b>Example</b></p>\n",
    "<p>\n",
    "Enter directory : /Users/K544/Google Drive/Pan/untitled folder<br>\n",
    "Enter save path : /Users/K544/Google Drive/Pan/untitled folder<br>\n",
    "</p>"
   ]
  },
  {
   "cell_type": "code",
   "execution_count": null,
   "id": "cultural-factor",
   "metadata": {},
   "outputs": [],
   "source": [
    "DICT_PATH[\"folder\"] = input(\"Enter directory : \")\n",
    "DICT_PATH[\"save_path\"] = input(\"Enter save path : \")"
   ]
  },
  {
   "cell_type": "markdown",
   "id": "certain-speech",
   "metadata": {},
   "source": [
    "<p style = \"color:blue\"><b>Example</b></p>\n",
    "<p>\n",
    "Enter file name : Test.jpg<br>\n",
    "Enter save name : result<br>\n",
    "</p>"
   ]
  },
  {
   "cell_type": "code",
   "execution_count": null,
   "id": "coral-auditor",
   "metadata": {},
   "outputs": [],
   "source": [
    "DICT_PATH[\"name\"] = input(\"Enter file name : \")\n",
    "DICT_PATH[\"save\"] = input(\"Enter save name : \")"
   ]
  },
  {
   "cell_type": "markdown",
   "id": "corresponding-comparative",
   "metadata": {},
   "source": [
    "<p style = \"color:blue\"><b>Example</b></p>\n",
    "<p>\n",
    "Enter distance : 163.6667<br>\n",
    "</p>"
   ]
  },
  {
   "cell_type": "code",
   "execution_count": null,
   "id": "informal-injection",
   "metadata": {},
   "outputs": [],
   "source": [
    "DICT_PATH[\"distance\"] = input(\"Enter distance : \")"
   ]
  },
  {
   "cell_type": "markdown",
   "id": "caroline-communications",
   "metadata": {},
   "source": [
    "<p style = \"color:blue\"><b>Example</b></p>\n",
    "<p>\n",
    "Oval enter X : 990<br>\n",
    "Oval enter Y : 440<br>\n",
    "Oval enter W,H : 2193<br>\n",
    "</p>"
   ]
  },
  {
   "cell_type": "code",
   "execution_count": null,
   "id": "fifteen-seven",
   "metadata": {},
   "outputs": [],
   "source": [
    "DICT_PATH[\"oval\"][0] = input(\"Oval enter X : \")\n",
    "DICT_PATH[\"oval\"][1] = input(\"Oval enter Y : \")\n",
    "DICT_PATH[\"oval\"][2] = input(\"Oval enter W,H : \")"
   ]
  },
  {
   "cell_type": "markdown",
   "id": "administrative-routine",
   "metadata": {},
   "source": [
    "<p><b>RUN MACRO and Excel!!</b></p>"
   ]
  },
  {
   "cell_type": "code",
   "execution_count": null,
   "id": "opponent-interview",
   "metadata": {
    "scrolled": true
   },
   "outputs": [],
   "source": [
    "#Macro\n",
    "opener = 'open(' +'\"'+ DICT_PATH[\"folder\"] + '/' + DICT_PATH[\"name\"] + '\");'\n",
    "setscale ='run(\"Set Scale...\", \"distance=' + DICT_PATH[\"distance\"] + ' known=6 pixel=1 unit=mm\");'\n",
    "makeoval = 'makeOval(' + DICT_PATH[\"oval\"][0] + ',' + DICT_PATH[\"oval\"][1] + ',' + DICT_PATH[\"oval\"][2] + ',' + DICT_PATH[\"oval\"][2] + ');'\n",
    "crop = 'run(\"Crop\");'\n",
    "bit = 'run(\"8-bit\");'\n",
    "cut_filter = 'run(\"Bandpass Filter...\", \"filter_large=40 filter_small=3 suppress=None tolerance=5 autoscale saturate\");run(\"Clear Outside\");'\n",
    "threshold = \"\"\"setThreshold(118, 255);setOption(\"BlackBackground\", false);run(\"Convert to Mask\");\"\"\"\n",
    "analyze = \"\"\"run(\"Analyze Particles...\", \"size=0.10-Infinity circularity=0.50-1.00 show=Outlines display exclude clear\");\"\"\"\n",
    "macro = opener + setscale + makeoval + crop + bit + SaveAs(1) + cut_filter + SaveAs(2) + threshold + SaveAs(3) + analyze + SaveAs(4)+SaveAs(5)\n",
    "result = ij.py.run_macro(macro)\n",
    "\n",
    "#E\n",
    "csv_path =  DICT_PATH[\"save_path\"] + '/' + DICT_PATH[\"save\"] + \"-5.csv\"\n",
    "result_excel_df = pd.read_csv(csv_path)\n",
    "result_excel_df['Diameter'] = result_excel_df['Area']/3.14\n",
    "result_excel_df['Diameter'] = result_excel_df['Diameter'].transform(np.sqrt)\n",
    "result_excel_df['Diameter'] = 2*(result_excel_df['Diameter'])\n",
    "max = result_excel_df['Diameter'].max()\n",
    "indexNames = result_excel_df[result_excel_df['Diameter'] == max].index\n",
    "result_excel_df.drop(indexNames , inplace=True)\n",
    "average = np.average(result_excel_df['Diameter'])\n",
    "median = np.median(result_excel_df['Diameter'])\n",
    "newDataframe = pd.DataFrame({\"average\":[average], \"median\": median})\n",
    "Final_excel = [result_excel_df,newDataframe]\n",
    "Final_excel_df = pd.concat(Final_excel, axis=1)\n",
    "xlsx_path = DICT_PATH[\"save_path\"] + '/' + DICT_PATH[\"save\"] + \"-5.xlsx\"\n",
    "writer = pd.ExcelWriter(xlsx_path,engine='xlsxwriter')\n",
    "Final_excel_df.to_excel(writer, sheet_name='Sheet1')\n",
    "writer.save()\n",
    "histogram = Final_excel_df .hist(column=\"Diameter\")\n",
    "print(\"Average : {:.3f}, Median : {:.3f}\".format(average,median)) "
   ]
  },
  {
   "cell_type": "markdown",
   "id": "egyptian-nation",
   "metadata": {},
   "source": [
    "<h2> Result</h2>"
   ]
  },
  {
   "cell_type": "code",
   "execution_count": null,
   "id": "valued-december",
   "metadata": {},
   "outputs": [],
   "source": [
    "histogram = Final_excel_df .hist(column=\"Diameter\")\n",
    "print(\"Average : {:.3f}, Median : {:.3f}\".format(average,median)) "
   ]
  }
 ],
 "metadata": {
  "kernelspec": {
   "display_name": "Python 3",
   "language": "python",
   "name": "python3"
  },
  "language_info": {
   "codemirror_mode": {
    "name": "ipython",
    "version": 3
   },
   "file_extension": ".py",
   "mimetype": "text/x-python",
   "name": "python",
   "nbconvert_exporter": "python",
   "pygments_lexer": "ipython3",
   "version": "3.8.6"
  }
 },
 "nbformat": 4,
 "nbformat_minor": 5
}
